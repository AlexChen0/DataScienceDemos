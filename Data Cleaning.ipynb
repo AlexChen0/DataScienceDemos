{
 "cells": [
  {
   "cell_type": "code",
   "execution_count": 1,
   "id": "1a573ea0",
   "metadata": {},
   "outputs": [
    {
     "name": "stdout",
     "output_type": "stream",
     "text": [
      "program has begun running\n",
      "bds ready\n",
      "All datasets ready.\n"
     ]
    }
   ],
   "source": [
    "import json\n",
    "import pandas as pd\n",
    "import numpy as np\n",
    "print(\"program has begun running\")\n",
    "bds = pd.read_json('yelp_academic_dataset_business.json', lines = True)\n",
    "print(\"bds ready\")\n",
    "print(\"All datasets ready.\")"
   ]
  },
  {
   "cell_type": "code",
   "execution_count": 7,
   "id": "d442d01c",
   "metadata": {},
   "outputs": [
    {
     "name": "stdout",
     "output_type": "stream",
     "text": [
      "json created. check folder.\n"
     ]
    }
   ],
   "source": [
    "MAbds = bds[(bds.state == \"MA\")]\n",
    "MAbds.to_json(\"MAbusiness.json\", orient = \"records\", lines = True)\n",
    "print(\"json created. check folder.\")"
   ]
  },
  {
   "cell_type": "code",
   "execution_count": null,
   "id": "20512432",
   "metadata": {},
   "outputs": [],
   "source": []
  }
 ],
 "metadata": {
  "kernelspec": {
   "display_name": "Python 3",
   "language": "python",
   "name": "python3"
  },
  "language_info": {
   "codemirror_mode": {
    "name": "ipython",
    "version": 3
   },
   "file_extension": ".py",
   "mimetype": "text/x-python",
   "name": "python",
   "nbconvert_exporter": "python",
   "pygments_lexer": "ipython3",
   "version": "3.8.8"
  }
 },
 "nbformat": 4,
 "nbformat_minor": 5
}
