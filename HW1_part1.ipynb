{
 "cells": [
  {
   "cell_type": "markdown",
   "metadata": {},
   "source": [
    "# Part 1: Data Management."
   ]
  },
  {
   "cell_type": "code",
   "execution_count": 19,
   "metadata": {},
   "outputs": [
    {
     "name": "stdout",
     "output_type": "stream",
     "text": [
      "program has begun running\n",
      "bds ready\n",
      "tds ready\n",
      "All datasets ready.\n"
     ]
    }
   ],
   "source": [
    "import json\n",
    "import pandas as pd\n",
    "import numpy as np\n",
    "print(\"program has begun running\")\n",
    "bds = pd.read_json('yelp_academic_dataset_business.json', lines = True)\n",
    "print(\"bds ready\")\n",
    "tds = pd.read_json('yelp_academic_dataset_tip.json', lines = True)\n",
    "print(\"tds ready\")\n",
    "print(\"All datasets ready.\")"
   ]
  },
  {
   "cell_type": "markdown",
   "metadata": {},
   "source": [
    "## Q1: How many entries of tips are there in yelp_academic_dataset_tip.json?"
   ]
  },
  {
   "cell_type": "code",
   "execution_count": 20,
   "metadata": {},
   "outputs": [
    {
     "name": "stdout",
     "output_type": "stream",
     "text": [
      "Q1:\t 1162119\n"
     ]
    }
   ],
   "source": [
    "#length of tip json\n",
    "\n",
    "print(\"Q1:\\t\", len(tds.index))"
   ]
  },
  {
   "cell_type": "markdown",
   "metadata": {},
   "source": [
    "## Q2: How many tips have the maximum length of text among all tips?"
   ]
  },
  {
   "cell_type": "code",
   "execution_count": 28,
   "metadata": {},
   "outputs": [
    {
     "name": "stdout",
     "output_type": "stream",
     "text": [
      "Q2:\t 399\n"
     ]
    }
   ],
   "source": [
    "#go through json, see which ones have maximum length. Increment counter\n",
    "#from google search, tip character limit is 500\n",
    "counter = 0\n",
    "maxtext = tds[\"text\"].str.len().max()\n",
    "for index, row in tds.iterrows():\n",
    "    if len(row[\"text\"]) == maxtext:\n",
    "        counter = counter + 1\n",
    "print(\"Q2:\\t\", counter)"
   ]
  },
  {
   "cell_type": "markdown",
   "metadata": {},
   "source": [
    "## Q3: We say that a user is \"outstanding\" if it makes the number of tips five standard-derivations more than an average user. (That is, #tips from a user >= average #tips of all users + 5*std of #tips of all users). How many outstanding users are there?"
   ]
  },
  {
   "cell_type": "code",
   "execution_count": 29,
   "metadata": {},
   "outputs": [
    {
     "name": "stdout",
     "output_type": "stream",
     "text": [
      "Q3:\t 900\n"
     ]
    }
   ],
   "source": [
    "#find standard deviation. multiply by 5. add to average. if user has more than that # tips, increment counter \n",
    "ftable = tds['user_id'].value_counts()\n",
    "stats = ftable.describe()\n",
    "avg = stats['mean']\n",
    "stdev = stats['std']\n",
    "\n",
    "superpeople = avg + 5 * stdev\n",
    "counter = 0\n",
    "\n",
    "for i in ftable:\n",
    "    if i > superpeople:\n",
    "        counter = counter + 1\n",
    "\n",
    "print(\"Q3:\\t\", counter)"
   ]
  },
  {
   "cell_type": "markdown",
   "metadata": {},
   "source": [
    "## Q4:  What is the name of the business with the most number of tips? (Hint: you may need to join multiple JSON files using pandas)"
   ]
  },
  {
   "cell_type": "code",
   "execution_count": 23,
   "metadata": {},
   "outputs": [
    {
     "name": "stdout",
     "output_type": "stream",
     "text": [
      "Q4:\t Hartsfield-Jackson Atlanta International Airport - ATL\n"
     ]
    }
   ],
   "source": [
    "#figure out which business has most tips. find business ID. reference from bds\n",
    "ftable = tds['business_id'].value_counts()\n",
    "bid = ftable.head(1).index[0]\n",
    "bname = \"\"\n",
    "for index, row in bds.iterrows():\n",
    "    if row[\"business_id\"] == bid:\n",
    "        bname = row[\"name\"]\n",
    "        break\n",
    "print(\"Q4:\\t\", bname)"
   ]
  },
  {
   "cell_type": "markdown",
   "metadata": {},
   "source": [
    "## Q5: For the above business, which hour has the least number of tips submitted? (Hint: the answer should be an integer from [0, 23])"
   ]
  },
  {
   "cell_type": "code",
   "execution_count": 34,
   "metadata": {
    "scrolled": true
   },
   "outputs": [
    {
     "name": "stdout",
     "output_type": "stream",
     "text": [
      "[129, 113, 73, 31, 31, 6, 6, 4, 9, 25, 81, 117, 141, 142, 132, 111, 103, 121, 133, 131, 144, 104, 112, 157]\n",
      "Q5:\t 23\n"
     ]
    }
   ],
   "source": [
    "#once business is found, make array that takes tips submitted to business and puts in index of array by hour time. find min afterwards and return index \n",
    "arr = [0 for i in range(24)]\n",
    "for index, row in tds.iterrows():\n",
    "    if(row[\"business_id\"] == bid):\n",
    "        arr[row[\"date\"].hour] = arr[row[\"date\"].hour] + 1\n",
    "print(arr)\n",
    "\n",
    "print(\"Q5:\\t\", arr.index(max(arr)))\n"
   ]
  },
  {
   "cell_type": "code",
   "execution_count": null,
   "metadata": {},
   "outputs": [],
   "source": []
  }
 ],
 "metadata": {
  "kernelspec": {
   "display_name": "Python 3",
   "language": "python",
   "name": "python3"
  },
  "language_info": {
   "codemirror_mode": {
    "name": "ipython",
    "version": 3
   },
   "file_extension": ".py",
   "mimetype": "text/x-python",
   "name": "python",
   "nbconvert_exporter": "python",
   "pygments_lexer": "ipython3",
   "version": "3.8.8"
  }
 },
 "nbformat": 4,
 "nbformat_minor": 4
}
