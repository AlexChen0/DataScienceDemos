{
 "cells": [
  {
   "cell_type": "markdown",
   "metadata": {},
   "source": [
    "## Q1. Chi Square Test"
   ]
  },
  {
   "cell_type": "code",
   "execution_count": 3,
   "metadata": {},
   "outputs": [
    {
     "name": "stdout",
     "output_type": "stream",
     "text": [
      "Requirement already satisfied: apyori in c:\\programdata\\anaconda3\\lib\\site-packages (1.1.2)\n",
      "bds ready\n",
      "all datasets ready\n"
     ]
    }
   ],
   "source": [
    "#TODO\n",
    "import json\n",
    "import pandas as pd\n",
    "import scipy.stats\n",
    "import sys\n",
    "!{sys.executable} -m pip install apyori\n",
    "from apyori import apriori\n",
    "import re\n",
    "bds = pd.read_json(\"yelp_academic_dataset_business.json\", lines = True)\n",
    "print(\"bds ready\")\n",
    "uds = pd.read_json(\"yelp_academic_dataset_user.json\", lines = True)\n",
    "print(\"all datasets ready\")"
   ]
  },
  {
   "cell_type": "code",
   "execution_count": 5,
   "metadata": {
    "scrolled": true
   },
   "outputs": [
    {
     "data": {
      "text/plain": [
       "(0.007767989920248089,\n",
       " 0.9297684241137756,\n",
       " 1,\n",
       " array([[101692.1677118,  21555.8322882],\n",
       "        [ 30806.8322882,   6530.1677118]]))"
      ]
     },
     "execution_count": 5,
     "metadata": {},
     "output_type": "execute_result"
    }
   ],
   "source": [
    "#TODO\n",
    "#get the 4 things we need\n",
    "openabove = len(bds[(bds[\"is_open\"] == 1)&(bds[\"stars\"]> 2.5)])\n",
    "openbelow = len(bds[(bds[\"is_open\"] == 1)&(bds[\"stars\"] <= 2.5)])\n",
    "closeabove = len(bds[(bds[\"is_open\"] == 0)&(bds[\"stars\"]> 2.5)])\n",
    "closebelow = len(bds[(bds[\"is_open\"] == 0)&(bds[\"stars\"] <= 2.5)])\n",
    "#and uhhh chi square it lmao\n",
    "c2 = [[openabove, openbelow],[closeabove, closebelow]]\n",
    "scipy.stats.chi2_contingency(c2)\n",
    "\n"
   ]
  },
  {
   "cell_type": "code",
   "execution_count": 6,
   "metadata": {},
   "outputs": [
    {
     "name": "stdout",
     "output_type": "stream",
     "text": [
      "Conclusions:\t Our p value is not <.05, and thus we cannot claim that openness and star rating are dependant\n"
     ]
    }
   ],
   "source": [
    "conclusions = 'Our p value is not <.05, and thus we cannot claim that openness and star rating are dependant'\n",
    "print('Conclusions:\\t', conclusions)"
   ]
  },
  {
   "cell_type": "markdown",
   "metadata": {},
   "source": [
    "## Q2. Correlation coefficients"
   ]
  },
  {
   "cell_type": "code",
   "execution_count": 8,
   "metadata": {},
   "outputs": [
    {
     "name": "stdout",
     "output_type": "stream",
     "text": [
      "0.5372877331206518 0.9587059422915661 0.6734321488986258\n"
     ]
    }
   ],
   "source": [
    "#TODO pearson coefficient\n",
    "reviews = uds[\"review_count\"]\n",
    "fans = uds[\"fans\"]\n",
    "useful = uds[\"useful\"]\n",
    "funny = uds[\"funny\"]\n",
    "\n",
    "reviewfans, _ = scipy.stats.pearsonr(reviews, fans)\n",
    "usefulfunny, _ = scipy.stats.pearsonr(useful, funny)\n",
    "usefulfans, _= scipy.stats.pearsonr(useful, fans)\n",
    "\n",
    "print(reviewfans, usefulfunny, usefulfans)"
   ]
  },
  {
   "cell_type": "code",
   "execution_count": 9,
   "metadata": {},
   "outputs": [
    {
     "name": "stdout",
     "output_type": "stream",
     "text": [
      "0.5206789217349023 0.7607635574336867 0.5346287662389618\n"
     ]
    }
   ],
   "source": [
    "#TODO spearman coefficient\n",
    "Srfans, _ = scipy.stats.spearmanr(reviews, fans)\n",
    "Sufunny, _ = scipy.stats.spearmanr(useful, funny)\n",
    "Sufans, _= scipy.stats.spearmanr(useful, fans)\n",
    "\n",
    "print(Srfans, Sufunny, Sufans)"
   ]
  },
  {
   "cell_type": "code",
   "execution_count": 10,
   "metadata": {},
   "outputs": [
    {
     "name": "stdout",
     "output_type": "stream",
     "text": [
      "Conclusions:\t there is a positive correlation between useful and funny reviews, but the rest cannot be said. None of them can be considered monotonic either, as all values are pretty far from 1\n"
     ]
    }
   ],
   "source": [
    "#TODO\n",
    "conclusions = 'there is a positive correlation between useful and funny reviews, but the rest cannot be said. None of them can be considered monotonic either, as all values are pretty far from 1'\n",
    "\n",
    "print('Conclusions:\\t', conclusions)"
   ]
  },
  {
   "cell_type": "markdown",
   "metadata": {},
   "source": [
    "## Q3. Association rule"
   ]
  },
  {
   "cell_type": "code",
   "execution_count": 23,
   "metadata": {},
   "outputs": [
    {
     "data": {
      "text/plain": [
       "[RelationRecord(items=frozenset({'Beauty', 'Spas'}), support=0.10328410294759145, ordered_statistics=[OrderedStatistic(items_base=frozenset({'Beauty'}), items_add=frozenset({'Spas'}), confidence=1.0, lift=9.682032098467479), OrderedStatistic(items_base=frozenset({'Spas'}), items_add=frozenset({'Beauty'}), confidence=1.0, lift=9.682032098467479)]),\n",
       " RelationRecord(items=frozenset({'Home', 'Services'}), support=0.10787686171870131, ordered_statistics=[OrderedStatistic(items_base=frozenset({'Home'}), items_add=frozenset({'Services'}), confidence=0.8544000789694487, lift=3.061280743792338)])]"
      ]
     },
     "execution_count": 23,
     "metadata": {},
     "output_type": "execute_result"
    }
   ],
   "source": [
    "#TODO\n",
    "bdsc = bds[\"categories\"]\n",
    "listbdsc = list(bdsc)\n",
    "keywords = []\n",
    "\n",
    "#pain\n",
    "for i in listbdsc:\n",
    "    if i:\n",
    "        keywords.append(re.findall('[a-zA-z]+', i))\n",
    "associations = apriori(keywords, min_support=0.1,min_confidence=0.8,min_lift=1)\n",
    "\n",
    "list(associations)"
   ]
  },
  {
   "cell_type": "code",
   "execution_count": 17,
   "metadata": {},
   "outputs": [
    {
     "name": "stdout",
     "output_type": "stream",
     "text": [
      "Conclusions:\t There is a really high chance that shops categorized as beauty will also categorize as spas\n"
     ]
    }
   ],
   "source": [
    "#TODO\n",
    "conclusions = 'There is a really high chance that shops categorized as beauty will also categorize as spas'\n",
    "\n",
    "print('Conclusions:\\t', conclusions)"
   ]
  },
  {
   "cell_type": "markdown",
   "metadata": {},
   "source": [
    "## Q4. Statistical Testing"
   ]
  },
  {
   "cell_type": "code",
   "execution_count": 20,
   "metadata": {},
   "outputs": [
    {
     "name": "stdout",
     "output_type": "stream",
     "text": [
      "Ttest_indResult(statistic=-0.27075580205175626, pvalue=0.7865800111796366)\n",
      "Ttest_indResult(statistic=1.4395032136332722, pvalue=0.07500798514996981)\n"
     ]
    }
   ],
   "source": [
    "#TODO\n",
    "ORds = bds[(bds[\"state\"] == \"OR\")][\"review_count\"]\n",
    "MAds = bds[(bds[\"state\"] == \"MA\")][\"review_count\"]\n",
    "GAds = bds[(bds[\"state\"] == \"GA\")][\"review_count\"]\n",
    "TXds = bds[(bds[\"state\"] == \"TX\")][\"review_count\"]\n",
    "\n",
    "print(scipy.stats.ttest_ind(ORds, MAds, equal_var = False))\n",
    "print(scipy.stats.ttest_ind(GAds, TXds, alternative = \"greater\", equal_var = False))"
   ]
  },
  {
   "cell_type": "code",
   "execution_count": 21,
   "metadata": {},
   "outputs": [
    {
     "name": "stdout",
     "output_type": "stream",
     "text": [
      "Conclusions:\t Since the p value is greater than .05, we cannot say the OR and MA review counts are equal, and we cannot say that the GA count is greater than the TX\n"
     ]
    }
   ],
   "source": [
    "#TODO\n",
    "conclusions = 'Since the p value is greater than .05, we cannot say the OR and MA review counts are equal, and we cannot say that the GA count is greater than the TX'\n",
    "print('Conclusions:\\t', conclusions)"
   ]
  }
 ],
 "metadata": {
  "kernelspec": {
   "display_name": "Python 3",
   "language": "python",
   "name": "python3"
  },
  "language_info": {
   "codemirror_mode": {
    "name": "ipython",
    "version": 3
   },
   "file_extension": ".py",
   "mimetype": "text/x-python",
   "name": "python",
   "nbconvert_exporter": "python",
   "pygments_lexer": "ipython3",
   "version": "3.8.8"
  }
 },
 "nbformat": 4,
 "nbformat_minor": 4
}
